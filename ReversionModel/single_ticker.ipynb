{
 "cells": [
  {
   "cell_type": "code",
   "execution_count": 1,
   "id": "8a49b942",
   "metadata": {},
   "outputs": [],
   "source": [
    "### Library Imports\n",
    "import pandas as pd\n",
    "import yfinance as yf\n",
    "import numpy as np\n",
    "from scipy import stats\n",
    "import datetime\n",
    "import matplotlib.pyplot as plt\n"
   ]
  },
  {
   "cell_type": "code",
   "execution_count": 2,
   "id": "7139e9f5",
   "metadata": {},
   "outputs": [
    {
     "name": "stderr",
     "output_type": "stream",
     "text": [
      "/var/folders/n5/bknqp6qs37l5l4bwv9wv3bs40000gn/T/ipykernel_60515/17277343.py:5: FutureWarning: YF.download() has changed argument auto_adjust default to True\n",
      "  data[tickers] = yf.download(tickers, start_date, end_date)['Close']\n",
      "[*********************100%***********************]  2 of 2 completed"
     ]
    },
    {
     "name": "stdout",
     "output_type": "stream",
     "text": [
      "        Date        AAPL        MSFT\n",
      "0 2025-01-02  243.263199  416.976868\n",
      "1 2025-01-03  242.774368  421.728607\n",
      "2 2025-01-06  244.410416  426.211365\n",
      "3 2025-01-07  241.627136  420.752350\n",
      "4 2025-01-08  242.115952  422.933990\n"
     ]
    },
    {
     "name": "stderr",
     "output_type": "stream",
     "text": [
      "\n"
     ]
    }
   ],
   "source": [
    "### Function to Import Stock Data\n",
    "def import_stock_data(tickers, start_date, end_date):\n",
    "    data = pd.DataFrame()\n",
    "    if len([tickers]) == 1:\n",
    "        data[tickers] = yf.download(tickers, start_date, end_date)['Close']\n",
    "        data = pd.DataFrame(data)\n",
    "    else:\n",
    "        for t in tickers:\n",
    "            data[t] = yf.download(tickers, start_date, end_date)['Close']\n",
    "    \n",
    "    # Reset index to include the Date as a column\n",
    "    data = data.reset_index()\n",
    "\n",
    "    return data\n",
    "\n",
    "tickers = ['AAPL', 'MSFT']\n",
    "start_date = '2025-01-01'\n",
    "end_date = '2025-06-01'\n",
    "stock_data = import_stock_data(tickers, start_date, end_date)\n",
    "print(stock_data.head())\n"
   ]
  },
  {
   "cell_type": "code",
   "execution_count": 3,
   "id": "09dcd4b0",
   "metadata": {},
   "outputs": [
    {
     "name": "stdout",
     "output_type": "stream",
     "text": [
      "        Date        AAPL        MSFT  PCT AAPL  PCT MSFT\n",
      "1 2025-01-03  242.774368  421.728607 -0.002009  0.011396\n",
      "2 2025-01-06  244.410416  426.211365  0.006739  0.010629\n",
      "3 2025-01-07  241.627136  420.752350 -0.011388 -0.012808\n",
      "4 2025-01-08  242.115952  422.933990  0.002023  0.005185\n",
      "5 2025-01-10  236.280045  417.345459 -0.024104 -0.013214\n"
     ]
    }
   ],
   "source": [
    "### Compute the Percentage Change\n",
    "def pct_change(tickers, df):\n",
    "    # Add col with daily pct change for each ticker\n",
    "    for t in tickers:\n",
    "        df['PCT ' + t] = df[t].pct_change()\n",
    "    \n",
    "    # Drop null vals\n",
    "    df.dropna(subset=['PCT ' + t for t in tickers], inplace=True)\n",
    "\n",
    "    return df\n",
    "\n",
    "### Function Call to Compute the Percentage Change\n",
    "stock_data = pct_change(tickers, stock_data)\n",
    "print(stock_data.head())\n"
   ]
  },
  {
   "cell_type": "code",
   "execution_count": 4,
   "id": "1717a623",
   "metadata": {},
   "outputs": [
    {
     "name": "stdout",
     "output_type": "stream",
     "text": [
      "Signal AAPL: 2 buy signals generated\n",
      "Signal MSFT: 1 buy signals generated\n",
      "        Date        AAPL        MSFT  PCT AAPL  PCT MSFT  Signal AAPL  \\\n",
      "1 2025-01-03  242.774368  421.728607 -0.002009  0.011396            0   \n",
      "2 2025-01-06  244.410416  426.211365  0.006739  0.010629            0   \n",
      "3 2025-01-07  241.627136  420.752350 -0.011388 -0.012808            0   \n",
      "4 2025-01-08  242.115952  422.933990  0.002023  0.005185            0   \n",
      "5 2025-01-10  236.280045  417.345459 -0.024104 -0.013214            0   \n",
      "\n",
      "   Signal MSFT  \n",
      "1            0  \n",
      "2            0  \n",
      "3            0  \n",
      "4            0  \n",
      "5            0  \n"
     ]
    }
   ],
   "source": [
    "### Generate Buy Signals\n",
    "''' \n",
    "Generate a \"BUY\" signal if the stock loses more than 5% of its value in a single day\n",
    "'''\n",
    "def generate_signals(df, drop_threshold):\n",
    "    \"\"\"\n",
    "    Generate 'BUY' signals if a stock drops more than the threshold in a day.\n",
    "    \"\"\"\n",
    "    for t in tickers:\n",
    "        df['Signal ' + t] = (df['PCT ' + t] < drop_threshold).astype(int)\n",
    "        # Test to see the number of generated signals\n",
    "        print(f\"{'Signal ' + t}: {df['Signal ' + t].sum()} buy signals generated\")\n",
    "\n",
    "    return df\n",
    "\n",
    "### Function Retun to Generate Buy Signals\n",
    "stock_data = generate_signals(stock_data, drop_threshold = -0.05)\n",
    "print(stock_data.head())\n"
   ]
  },
  {
   "cell_type": "code",
   "execution_count": 5,
   "id": "3f77d4d3",
   "metadata": {},
   "outputs": [
    {
     "name": "stdout",
     "output_type": "stream",
     "text": [
      "   Entry Date  Exit Date  Entry Price  Exit Price    Return\n",
      "0          63         76   188.133301  208.097107  0.106115\n",
      "1          64         77   181.222366  209.005920  0.153312\n"
     ]
    }
   ],
   "source": [
    "### Trade Simulation Function\n",
    "''' \n",
    "Enter trade the day after the signal and exit after a fixed holding period (ex. 5 days)\n",
    "'''\n",
    "def trade_sim(ticker, df, holding_days):\n",
    "    ### Empty List to Store Trades\n",
    "    trades = []\n",
    "\n",
    "    # Iterate over the df, stopping with the number of holding days left (avoids out of bounds error) \n",
    "    for i in range(len(df) - holding_days):\n",
    "        # Identify the Buy Signals - Locate rows with a \"1\" indicator\n",
    "        if df.iloc[i]['Signal ' + ticker] == 1:\n",
    "            # Set Entry/Exit Date - For each signal date (i), set the entry date to be the next trading day (i + 1)\n",
    "            entry_idx = i + 1\n",
    "            exit_idx = i + holding_days\n",
    "\n",
    "            entry_date = df.index[entry_idx]\n",
    "            exit_date = df.index[exit_idx]\n",
    "\n",
    "            # Record Entry and Exit Prices\n",
    "            entry_price = df.iloc[entry_idx][ticker]\n",
    "            exit_price = df.iloc[exit_idx][ticker]\n",
    "\n",
    "            # Compute the Return for the Asset\n",
    "            returns = (exit_price / entry_price) - 1\n",
    "\n",
    "            # Save trade to list\n",
    "            trades.append({\n",
    "                'Entry Date': entry_date,\n",
    "                'Exit Date': exit_date,\n",
    "                'Entry Price': entry_price,\n",
    "                'Exit Price': exit_price,\n",
    "                'Return': returns\n",
    "            })\n",
    "\n",
    "    return pd.DataFrame(trades, columns = ['Entry Date', 'Exit Date', 'Entry Price', 'Exit Price', 'Return'])\n",
    "\n",
    "### Function to Return the Trade Simulation Function\n",
    "#for t in tickers:\n",
    "trades = trade_sim('AAPL', stock_data, holding_days = 14)\n",
    "print(trades)\n"
   ]
  },
  {
   "cell_type": "code",
   "execution_count": 6,
   "id": "9b3cb72e",
   "metadata": {},
   "outputs": [
    {
     "data": {
      "text/html": [
       "<div>\n",
       "<style scoped>\n",
       "    .dataframe tbody tr th:only-of-type {\n",
       "        vertical-align: middle;\n",
       "    }\n",
       "\n",
       "    .dataframe tbody tr th {\n",
       "        vertical-align: top;\n",
       "    }\n",
       "\n",
       "    .dataframe thead th {\n",
       "        text-align: right;\n",
       "    }\n",
       "</style>\n",
       "<table border=\"1\" class=\"dataframe\">\n",
       "  <thead>\n",
       "    <tr style=\"text-align: right;\">\n",
       "      <th></th>\n",
       "      <th>Entry Date</th>\n",
       "      <th>Exit Date</th>\n",
       "      <th>Entry Price</th>\n",
       "      <th>Exit Price</th>\n",
       "      <th>Return</th>\n",
       "      <th>Ticker</th>\n",
       "    </tr>\n",
       "  </thead>\n",
       "  <tbody>\n",
       "    <tr>\n",
       "      <th>0</th>\n",
       "      <td>63</td>\n",
       "      <td>76</td>\n",
       "      <td>188.133301</td>\n",
       "      <td>208.097107</td>\n",
       "      <td>0.106115</td>\n",
       "      <td>AAPL</td>\n",
       "    </tr>\n",
       "    <tr>\n",
       "      <th>1</th>\n",
       "      <td>64</td>\n",
       "      <td>77</td>\n",
       "      <td>181.222366</td>\n",
       "      <td>209.005920</td>\n",
       "      <td>0.153312</td>\n",
       "      <td>AAPL</td>\n",
       "    </tr>\n",
       "    <tr>\n",
       "      <th>2</th>\n",
       "      <td>19</td>\n",
       "      <td>32</td>\n",
       "      <td>413.470367</td>\n",
       "      <td>415.367462</td>\n",
       "      <td>0.004588</td>\n",
       "      <td>MSFT</td>\n",
       "    </tr>\n",
       "  </tbody>\n",
       "</table>\n",
       "</div>"
      ],
      "text/plain": [
       "   Entry Date  Exit Date  Entry Price  Exit Price    Return Ticker\n",
       "0          63         76   188.133301  208.097107  0.106115   AAPL\n",
       "1          64         77   181.222366  209.005920  0.153312   AAPL\n",
       "2          19         32   413.470367  415.367462  0.004588   MSFT"
      ]
     },
     "execution_count": 6,
     "metadata": {},
     "output_type": "execute_result"
    }
   ],
   "source": [
    "### Function to Simulate all Trades\n",
    "def simulate_all_trades(tickers, df, holding_days):\n",
    "    all_trades = []\n",
    "\n",
    "    for ticker in tickers:\n",
    "        try:\n",
    "            trades_df = trade_sim(ticker, df, holding_days)\n",
    "            if not trades_df.empty:\n",
    "                trades_df['Ticker'] = ticker\n",
    "                all_trades.append(trades_df)\n",
    "\n",
    "        except KeyError as e:\n",
    "            print(f\"Skipping {ticker}: missing column {e}\")\n",
    "\n",
    "        except Exception as e:\n",
    "            print(f\"Error with {ticker}: {e}\")\n",
    "\n",
    "    if all_trades:\n",
    "        return pd.concat(all_trades, ignore_index = True)\n",
    "    else:\n",
    "        return pd.DataFrame(columns = ['Entry Date', 'Exit Date', 'Entry Price', 'Exit Price', 'Return', 'Ticker'])\n",
    "\n",
    "\n",
    "### Function Return for all Tickers\n",
    "all_trades = simulate_all_trades(tickers, stock_data, holding_days = 14)\n",
    "all_trades.head()\n"
   ]
  },
  {
   "cell_type": "code",
   "execution_count": 8,
   "id": "760a00e3",
   "metadata": {},
   "outputs": [
    {
     "name": "stdout",
     "output_type": "stream",
     "text": [
      "Number of Trades: 2\n",
      "Total Return: 27.57%\n",
      "Average Trade Return: 12.97%\n",
      "Win Rate: 100.00%\n",
      "Sharpe Ratio: 16.49\n"
     ]
    }
   ],
   "source": [
    "### Evaluate Total Performance\n",
    "def performance_metrics(df, holding_days):\n",
    "    # Total Return\n",
    "    total_rets = (1 + df['Return']).prod() - 1\n",
    "    # Avg Return\n",
    "    avg_rets = df['Return'].mean()\n",
    "    # Win Rate = Num Winning Trades / Total Trades\n",
    "    win_rate = (df['Return'] > 0).mean()\n",
    "    # Sharpe Ratio\n",
    "\n",
    "    sharpe = (avg_rets / df['Return'].std()) * np.sqrt(252 / holding_days)\n",
    "\n",
    "    print(f\"Number of Trades: {len(df)}\")\n",
    "    print(f\"Total Return: {total_rets:.2%}\")\n",
    "    print(f\"Average Trade Return: {avg_rets:.2%}\")\n",
    "    print(f\"Win Rate: {win_rate:.2%}\")\n",
    "    print(f\"Sharpe Ratio: {sharpe:.2f}\")\n",
    "\n",
    "### Function Return to Evaluate Total Performance\n",
    "metrics = performance_metrics(trades, holding_days = 14)\n"
   ]
  }
 ],
 "metadata": {
  "kernelspec": {
   "display_name": "base",
   "language": "python",
   "name": "python3"
  },
  "language_info": {
   "codemirror_mode": {
    "name": "ipython",
    "version": 3
   },
   "file_extension": ".py",
   "mimetype": "text/x-python",
   "name": "python",
   "nbconvert_exporter": "python",
   "pygments_lexer": "ipython3",
   "version": "3.8.18"
  }
 },
 "nbformat": 4,
 "nbformat_minor": 5
}
