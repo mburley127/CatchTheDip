{
 "cells": [
  {
   "cell_type": "code",
   "execution_count": 43,
   "id": "8a49b942",
   "metadata": {},
   "outputs": [],
   "source": [
    "### Library Imports\n",
    "import pandas as pd\n",
    "import yfinance as yf\n",
    "import numpy as np\n",
    "from scipy import stats\n",
    "import datetime\n",
    "import matplotlib.pyplot as plt\n"
   ]
  },
  {
   "cell_type": "code",
   "execution_count": 44,
   "id": "7139e9f5",
   "metadata": {},
   "outputs": [
    {
     "name": "stderr",
     "output_type": "stream",
     "text": [
      "/var/folders/n5/bknqp6qs37l5l4bwv9wv3bs40000gn/T/ipykernel_60806/85346715.py:5: FutureWarning: YF.download() has changed argument auto_adjust default to True\n",
      "  data[tickers] = yf.download(tickers, start_date, end_date)['Close']\n",
      "[*********************100%***********************]  2 of 2 completed"
     ]
    },
    {
     "name": "stdout",
     "output_type": "stream",
     "text": [
      "        Date       UBER        AOS\n",
      "0 2025-01-02  66.650047  63.169998\n",
      "1 2025-01-03  67.907227  64.589996\n",
      "2 2025-01-06  68.204193  66.309998\n",
      "3 2025-01-07  67.610252  66.150002\n",
      "4 2025-01-08  67.986420  64.910004\n"
     ]
    },
    {
     "name": "stderr",
     "output_type": "stream",
     "text": [
      "\n"
     ]
    }
   ],
   "source": [
    "### Function to Import Stock Data\n",
    "def import_stock_data(tickers, start_date, end_date):\n",
    "    data = pd.DataFrame()\n",
    "    if len([tickers]) == 1:\n",
    "        data[tickers] = yf.download(tickers, start_date, end_date)['Close']\n",
    "        data = pd.DataFrame(data)\n",
    "    else:\n",
    "        for t in tickers:\n",
    "            data[t] = yf.download(tickers, start_date, end_date)['Close']\n",
    "    \n",
    "    # Reset index to include the Date as a column\n",
    "    data = data.reset_index()\n",
    "\n",
    "    return data\n",
    "\n",
    "tickers = ['UBER', 'AOS']\n",
    "start_date = '2025-01-01'\n",
    "end_date = '2025-06-01'\n",
    "stock_data = import_stock_data(tickers, start_date, end_date)\n",
    "print(stock_data.head())\n"
   ]
  },
  {
   "cell_type": "code",
   "execution_count": 45,
   "id": "09dcd4b0",
   "metadata": {},
   "outputs": [
    {
     "name": "stdout",
     "output_type": "stream",
     "text": [
      "        Date       UBER        AOS  PCT UBER   PCT AOS\n",
      "1 2025-01-03  67.907227  64.589996  0.018862  0.022479\n",
      "2 2025-01-06  68.204193  66.309998  0.004373  0.026630\n",
      "3 2025-01-07  67.610252  66.150002 -0.008708 -0.002413\n",
      "4 2025-01-08  67.986420  64.910004  0.005564 -0.018745\n",
      "5 2025-01-10  66.897530  65.970001 -0.016016  0.016330\n"
     ]
    }
   ],
   "source": [
    "### Compute the Percentage Change\n",
    "def pct_change(tickers, df):\n",
    "    # Add col with daily pct change for each ticker\n",
    "    for t in tickers:\n",
    "        df['PCT ' + t] = df[t].pct_change()\n",
    "    \n",
    "    # Drop null vals\n",
    "    df.dropna(subset=['PCT ' + t for t in tickers], inplace=True)\n",
    "\n",
    "    return df\n",
    "\n",
    "### Function Call to Compute the Percentage Change\n",
    "stock_data = pct_change(tickers, stock_data)\n",
    "print(stock_data.head())\n"
   ]
  },
  {
   "cell_type": "code",
   "execution_count": 46,
   "id": "1717a623",
   "metadata": {},
   "outputs": [
    {
     "name": "stdout",
     "output_type": "stream",
     "text": [
      "Signal UBER: 1 buy signals generated\n",
      "Signal AOS: 3 buy signals generated\n",
      "        Date       UBER        AOS  PCT UBER   PCT AOS  Signal UBER  \\\n",
      "1 2025-01-03  67.907227  64.589996  0.018862  0.022479            0   \n",
      "2 2025-01-06  68.204193  66.309998  0.004373  0.026630            0   \n",
      "3 2025-01-07  67.610252  66.150002 -0.008708 -0.002413            0   \n",
      "4 2025-01-08  67.986420  64.910004  0.005564 -0.018745            0   \n",
      "5 2025-01-10  66.897530  65.970001 -0.016016  0.016330            0   \n",
      "\n",
      "   Signal AOS  \n",
      "1           0  \n",
      "2           0  \n",
      "3           0  \n",
      "4           0  \n",
      "5           0  \n"
     ]
    }
   ],
   "source": [
    "### Generate Buy Signals\n",
    "''' \n",
    "Generate a \"BUY\" signal if the stock loses more than 5% of its value in a single day\n",
    "'''\n",
    "def generate_signals(df, drop_threshold):\n",
    "    \"\"\"\n",
    "    Generate 'BUY' signals if a stock drops more than the threshold in a day.\n",
    "    \"\"\"\n",
    "    for t in tickers:\n",
    "        df['Signal ' + t] = (df['PCT ' + t] < drop_threshold).astype(int)\n",
    "        # Test to see the number of generated signals\n",
    "        print(f\"{'Signal ' + t}: {df['Signal ' + t].sum()} buy signals generated\")\n",
    "\n",
    "    return df\n",
    "\n",
    "### Function Retun to Generate Buy Signals\n",
    "stock_data = generate_signals(stock_data, drop_threshold = -0.05)\n",
    "print(stock_data.head())\n"
   ]
  },
  {
   "cell_type": "code",
   "execution_count": 47,
   "id": "3f77d4d3",
   "metadata": {},
   "outputs": [
    {
     "name": "stdout",
     "output_type": "stream",
     "text": [
      "   Entry Date  Exit Date  Entry Price  Exit Price    Return\n",
      "0          23         36    69.989998   75.870003  0.084012\n",
      "1          63         76    64.620003   78.099998  0.208604\n",
      "2          64         77    65.639999   77.750000  0.184491\n"
     ]
    }
   ],
   "source": [
    "### Trade Simulation Function\n",
    "''' \n",
    "Enter trade the day after the signal and exit after a fixed holding period (ex. 5 days)\n",
    "'''\n",
    "def trade_sim(ticker, df, holding_days):\n",
    "    ### Empty List to Store Trades\n",
    "    trades = []\n",
    "\n",
    "    # Iterate over the df, stopping with the number of holding days left (avoids out of bounds error) \n",
    "    for i in range(len(df) - holding_days):\n",
    "        # Identify the Buy Signals - Locate rows with a \"1\" indicator\n",
    "        if df.iloc[i]['Signal ' + ticker] == 1:\n",
    "            # Set Entry/Exit Date - For each signal date (i), set the entry date to be the next trading day (i + 1)\n",
    "            entry_idx = i + 1\n",
    "            exit_idx = i + holding_days\n",
    "\n",
    "            entry_date = df.index[entry_idx]\n",
    "            exit_date = df.index[exit_idx]\n",
    "\n",
    "            # Record Entry and Exit Prices\n",
    "            entry_price = df.iloc[entry_idx][ticker]\n",
    "            exit_price = df.iloc[exit_idx][ticker]\n",
    "\n",
    "            # Compute the Return for the Asset\n",
    "            returns = (exit_price / entry_price) - 1\n",
    "\n",
    "            # Save trade to list\n",
    "            trades.append({\n",
    "                'Entry Date': entry_date,\n",
    "                'Exit Date': exit_date,\n",
    "                'Entry Price': entry_price,\n",
    "                'Exit Price': exit_price,\n",
    "                'Return': returns\n",
    "            })\n",
    "\n",
    "    return pd.DataFrame(trades, columns = ['Entry Date', 'Exit Date', 'Entry Price', 'Exit Price', 'Return'])\n",
    "\n",
    "### Function to Return the Trade Simulation Function\n",
    "#for t in tickers:\n",
    "trades = trade_sim('AOS', stock_data, holding_days = 14)\n",
    "print(trades)\n"
   ]
  },
  {
   "cell_type": "code",
   "execution_count": 48,
   "id": "760a00e3",
   "metadata": {},
   "outputs": [
    {
     "name": "stdout",
     "output_type": "stream",
     "text": [
      "Number of Trades: 3\n",
      "Total Return: 55.19%\n",
      "Average Trade Return: 15.90%\n",
      "Win Rate: 100.00%\n",
      "Sharpe Ratio: 10.21\n"
     ]
    }
   ],
   "source": [
    "### Evaluate Total Performance\n",
    "def performance_metrics(df, holding_days):\n",
    "    # Total Return\n",
    "    total_rets = (1 + df['Return']).prod() - 1\n",
    "    # Avg Return\n",
    "    avg_rets = df['Return'].mean()\n",
    "    # Win Rate = Num Winning Trades / Total Trades\n",
    "    win_rate = (df['Return'] > 0).mean()\n",
    "    # Sharpe Ratio\n",
    "    sharpe = (avg_rets / df['Return'].std()) * np.sqrt(252 / holding_days)\n",
    "\n",
    "    print(f\"Number of Trades: {len(df)}\")\n",
    "    print(f\"Total Return: {total_rets:.2%}\")\n",
    "    print(f\"Average Trade Return: {avg_rets:.2%}\")\n",
    "    print(f\"Win Rate: {win_rate:.2%}\")\n",
    "    print(f\"Sharpe Ratio: {sharpe:.2f}\")\n",
    "\n",
    "### Function Return to Evaluate Total Performance\n",
    "metrics = performance_metrics(trades, holding_days = 14)\n"
   ]
  }
 ],
 "metadata": {
  "kernelspec": {
   "display_name": "base",
   "language": "python",
   "name": "python3"
  },
  "language_info": {
   "codemirror_mode": {
    "name": "ipython",
    "version": 3
   },
   "file_extension": ".py",
   "mimetype": "text/x-python",
   "name": "python",
   "nbconvert_exporter": "python",
   "pygments_lexer": "ipython3",
   "version": "3.8.18"
  }
 },
 "nbformat": 4,
 "nbformat_minor": 5
}
