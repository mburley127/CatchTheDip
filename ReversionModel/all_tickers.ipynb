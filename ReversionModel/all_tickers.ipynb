{
 "cells": [
  {
   "cell_type": "code",
   "execution_count": 51,
   "id": "e796d65e",
   "metadata": {},
   "outputs": [],
   "source": [
    "### Library Imports\n",
    "import pandas as pd\n",
    "import yfinance as yf\n",
    "import numpy as np\n",
    "from scipy import stats\n",
    "import datetime\n",
    "import matplotlib.pyplot as plt\n"
   ]
  },
  {
   "cell_type": "code",
   "execution_count": 52,
   "id": "3bc2cf46",
   "metadata": {},
   "outputs": [
    {
     "name": "stdout",
     "output_type": "stream",
     "text": [
      "['MMM', 'AOS', 'ABT', 'ABBV', 'ACN', 'ADBE', 'AMD', 'AES', 'AFL', 'A', 'APD', 'ABNB', 'AKAM', 'ALB', 'ARE', 'ALGN', 'ALLE', 'LNT', 'ALL', 'GOOGL', 'GOOG', 'MO', 'AMZN', 'AMCR', 'AEE', 'AEP', 'AXP', 'AIG', 'AMT', 'AWK', 'AMP', 'AME', 'AMGN', 'APH', 'ADI', 'ANSS', 'AON', 'APA', 'APO', 'AAPL', 'AMAT', 'APTV', 'ACGL', 'ADM', 'ANET', 'AJG', 'AIZ', 'T', 'ATO', 'ADSK', 'ADP', 'AZO', 'AVB', 'AVY', 'AXON', 'BKR', 'BALL', 'BAC', 'BAX', 'BDX', 'BRK-B', 'BBY', 'TECH', 'BIIB', 'BLK', 'BX', 'BK', 'BA', 'BKNG', 'BSX', 'BMY', 'AVGO', 'BR', 'BRO', 'BF-B', 'BLDR', 'BG', 'BXP', 'CHRW', 'CDNS', 'CZR', 'CPT', 'CPB', 'COF', 'CAH', 'KMX', 'CCL', 'CARR', 'CAT', 'CBOE', 'CBRE', 'CDW', 'COR', 'CNC', 'CNP', 'CF', 'CRL', 'SCHW', 'CHTR', 'CVX', 'CMG', 'CB', 'CHD', 'CI', 'CINF', 'CTAS', 'CSCO', 'C', 'CFG', 'CLX', 'CME', 'CMS', 'KO', 'CTSH', 'COIN', 'CL', 'CMCSA', 'CAG', 'COP', 'ED', 'STZ', 'CEG', 'COO', 'CPRT', 'GLW', 'CPAY', 'CTVA', 'CSGP', 'COST', 'CTRA', 'CRWD', 'CCI', 'CSX', 'CMI', 'CVS', 'DHR', 'DRI', 'DVA', 'DAY', 'DECK', 'DE', 'DELL', 'DAL', 'DVN', 'DXCM', 'FANG', 'DLR', 'DG', 'DLTR', 'D', 'DPZ', 'DASH', 'DOV', 'DOW', 'DHI', 'DTE', 'DUK', 'DD', 'EMN', 'ETN', 'EBAY', 'ECL', 'EIX', 'EW', 'EA', 'ELV', 'EMR', 'ENPH', 'ETR', 'EOG', 'EPAM', 'EQT', 'EFX', 'EQIX', 'EQR', 'ERIE', 'ESS', 'EL', 'EG', 'EVRG', 'ES', 'EXC', 'EXE', 'EXPE', 'EXPD', 'EXR', 'XOM', 'FFIV', 'FDS', 'FICO', 'FAST', 'FRT', 'FDX', 'FIS', 'FITB', 'FSLR', 'FE', 'FI', 'F', 'FTNT', 'FTV', 'FOXA', 'FOX', 'BEN', 'FCX', 'GRMN', 'IT', 'GE', 'GEHC', 'GEV', 'GEN', 'GNRC', 'GD', 'GIS', 'GM', 'GPC', 'GILD', 'GPN', 'GL', 'GDDY', 'GS', 'HAL', 'HIG', 'HAS', 'HCA', 'DOC', 'HSIC', 'HSY', 'HES', 'HPE', 'HLT', 'HOLX', 'HD', 'HON', 'HRL', 'HST', 'HWM', 'HPQ', 'HUBB', 'HUM', 'HBAN', 'HII', 'IBM', 'IEX', 'IDXX', 'ITW', 'INCY', 'IR', 'PODD', 'INTC', 'ICE', 'IFF', 'IP', 'IPG', 'INTU', 'ISRG', 'IVZ', 'INVH', 'IQV', 'IRM', 'JBHT', 'JBL', 'JKHY', 'J', 'JNJ', 'JCI', 'JPM', 'JNPR', 'K', 'KVUE', 'KDP', 'KEY', 'KEYS', 'KMB', 'KIM', 'KMI', 'KKR', 'KLAC', 'KHC', 'KR', 'LHX', 'LH', 'LRCX', 'LW', 'LVS', 'LDOS', 'LEN', 'LII', 'LLY', 'LIN', 'LYV', 'LKQ', 'LMT', 'L', 'LOW', 'LULU', 'LYB', 'MTB', 'MPC', 'MKTX', 'MAR', 'MMC', 'MLM', 'MAS', 'MA', 'MTCH', 'MKC', 'MCD', 'MCK', 'MDT', 'MRK', 'META', 'MET', 'MTD', 'MGM', 'MCHP', 'MU', 'MSFT', 'MAA', 'MRNA', 'MHK', 'MOH', 'TAP', 'MDLZ', 'MPWR', 'MNST', 'MCO', 'MS', 'MOS', 'MSI', 'MSCI', 'NDAQ', 'NTAP', 'NFLX', 'NEM', 'NWSA', 'NWS', 'NEE', 'NKE', 'NI', 'NDSN', 'NSC', 'NTRS', 'NOC', 'NCLH', 'NRG', 'NUE', 'NVDA', 'NVR', 'NXPI', 'ORLY', 'OXY', 'ODFL', 'OMC', 'ON', 'OKE', 'ORCL', 'OTIS', 'PCAR', 'PKG', 'PLTR', 'PANW', 'PARA', 'PH', 'PAYX', 'PAYC', 'PYPL', 'PNR', 'PEP', 'PFE', 'PCG', 'PM', 'PSX', 'PNW', 'PNC', 'POOL', 'PPG', 'PPL', 'PFG', 'PG', 'PGR', 'PLD', 'PRU', 'PEG', 'PTC', 'PSA', 'PHM', 'PWR', 'QCOM', 'DGX', 'RL', 'RJF', 'RTX', 'O', 'REG', 'REGN', 'RF', 'RSG', 'RMD', 'RVTY', 'ROK', 'ROL', 'ROP', 'ROST', 'RCL', 'SPGI', 'CRM', 'SBAC', 'SLB', 'STX', 'SRE', 'NOW', 'SHW', 'SPG', 'SWKS', 'SJM', 'SW', 'SNA', 'SOLV', 'SO', 'LUV', 'SWK', 'SBUX', 'STT', 'STLD', 'STE', 'SYK', 'SMCI', 'SYF', 'SNPS', 'SYY', 'TMUS', 'TROW', 'TTWO', 'TPR', 'TRGP', 'TGT', 'TEL', 'TDY', 'TER', 'TSLA', 'TXN', 'TPL', 'TXT', 'TMO', 'TJX', 'TKO', 'TSCO', 'TT', 'TDG', 'TRV', 'TRMB', 'TFC', 'TYL', 'TSN', 'USB', 'UBER', 'UDR', 'ULTA', 'UNP', 'UAL', 'UPS', 'URI', 'UNH', 'UHS', 'VLO', 'VTR', 'VLTO', 'VRSN', 'VRSK', 'VZ', 'VRTX', 'VTRS', 'VICI', 'V', 'VST', 'VMC', 'WRB', 'GWW', 'WAB', 'WBA', 'WMT', 'DIS', 'WBD', 'WM', 'WAT', 'WEC', 'WFC', 'WELL', 'WST', 'WDC', 'WY', 'WSM', 'WMB', 'WTW', 'WDAY', 'WYNN', 'XEL', 'XYL', 'YUM', 'ZBRA', 'ZBH', 'ZTS']\n"
     ]
    }
   ],
   "source": [
    "### Function to Get All Tickers\n",
    "def get_tickers(url):\n",
    "    \n",
    "    tickers_list = []\n",
    "    # Get Tickers into df\n",
    "    df = pd.read_html(url)\n",
    "    # Convert the df to a list\n",
    "    table = df[0]  # First table contains tickers\n",
    "    tickers = table['Symbol'].tolist()\n",
    "    # Yahoo Finance uses '-' instead of '.' (e.g., BRK.B → BRK-B)\n",
    "    tickers_list = [ticker.replace('.', '-') for ticker in tickers]\n",
    "\n",
    "    return tickers_list\n",
    "\n",
    "url = 'https://en.wikipedia.org/wiki/List_of_S%26P_500_companies'\n",
    "full_tickers = get_tickers(url)\n",
    "print(full_tickers)\n"
   ]
  },
  {
   "cell_type": "code",
   "execution_count": 53,
   "id": "70b6a35a",
   "metadata": {},
   "outputs": [
    {
     "name": "stderr",
     "output_type": "stream",
     "text": [
      "/var/folders/n5/bknqp6qs37l5l4bwv9wv3bs40000gn/T/ipykernel_77464/3755755847.py:5: FutureWarning: YF.download() has changed argument auto_adjust default to True\n",
      "  data[tickers] = yf.download(tickers, start_date, end_date)['Close']\n",
      "[*********************100%***********************]  7 of 7 completed"
     ]
    },
    {
     "name": "stdout",
     "output_type": "stream",
     "text": [
      "        Date         MMM         AOS         ABT        ABBV         ACN  \\\n",
      "0 2025-01-02  176.135895  112.327484  345.629974  441.000000  120.629997   \n",
      "1 2025-01-03  177.883118  112.713669  350.613953  430.570007  125.370003   \n",
      "2 2025-01-06  176.783752  111.931412  348.116974  431.179993  129.550003   \n",
      "3 2025-01-07  176.224243  112.287888  353.130737  422.630005  127.330002   \n",
      "4 2025-01-08  175.213211  113.129547  354.458496  419.579987  121.839996   \n",
      "\n",
      "        ADBE         AMD  \n",
      "0  66.650047  128.434326  \n",
      "1  67.907227  128.602661  \n",
      "2  68.204193  129.018555  \n",
      "3  67.610252  131.474380  \n",
      "4  67.986420  133.217194  \n"
     ]
    },
    {
     "name": "stderr",
     "output_type": "stream",
     "text": [
      "\n"
     ]
    }
   ],
   "source": [
    "### Function to Import Stock Data\n",
    "def import_stock_data(tickers, start_date, end_date):\n",
    "    data = pd.DataFrame()\n",
    "    if len([tickers]) == 1:\n",
    "        data[tickers] = yf.download(tickers, start_date, end_date)['Close']\n",
    "        data = pd.DataFrame(data)\n",
    "    else:\n",
    "        for t in tickers:\n",
    "            data[t] = yf.download(tickers, start_date, end_date)['Close']\n",
    "    \n",
    "    # Reset index to include the Date as a column\n",
    "    data = data.reset_index()\n",
    "\n",
    "    return data\n",
    "\n",
    "start_date = '2025-01-01'\n",
    "end_date = '2025-06-01'\n",
    "tickers = ['MMM', 'AOS', 'ABT', 'ABBV', 'ACN', 'ADBE', 'AMD']\n",
    "stock_data = import_stock_data(tickers, start_date, end_date)\n",
    "print(stock_data.head())\n"
   ]
  },
  {
   "cell_type": "code",
   "execution_count": 54,
   "id": "d7407b02",
   "metadata": {},
   "outputs": [
    {
     "name": "stdout",
     "output_type": "stream",
     "text": [
      "        Date         MMM         AOS         ABT        ABBV         ACN  \\\n",
      "1 2025-01-03  177.883118  112.713669  350.613953  430.570007  125.370003   \n",
      "2 2025-01-06  176.783752  111.931412  348.116974  431.179993  129.550003   \n",
      "3 2025-01-07  176.224243  112.287888  353.130737  422.630005  127.330002   \n",
      "4 2025-01-08  175.213211  113.129547  354.458496  419.579987  121.839996   \n",
      "5 2025-01-10  171.944534  111.208565  346.591095  405.920013  116.040001   \n",
      "\n",
      "        ADBE         AMD   PCT MMM   PCT AOS   PCT ABT  PCT ABBV   PCT ACN  \\\n",
      "1  67.907227  128.602661  0.009920  0.003438  0.014420 -0.023651  0.039294   \n",
      "2  68.204193  129.018555 -0.006180 -0.006940 -0.007122  0.001417  0.033341   \n",
      "3  67.610252  131.474380 -0.003165  0.003185  0.014403 -0.019829 -0.017136   \n",
      "4  67.986420  133.217194 -0.005737  0.007496  0.003760 -0.007217 -0.043116   \n",
      "5  66.897530  129.929596 -0.018655 -0.016980 -0.022196 -0.032556 -0.047603   \n",
      "\n",
      "   PCT ADBE   PCT AMD  \n",
      "1  0.018862  0.001311  \n",
      "2  0.004373  0.003234  \n",
      "3 -0.008708  0.019035  \n",
      "4  0.005564  0.013256  \n",
      "5 -0.016016 -0.024678  \n"
     ]
    }
   ],
   "source": [
    "### Compute the Percentage Change\n",
    "def pct_change(tickers, df):\n",
    "    # Add col with daily pct change for each ticker\n",
    "    for t in tickers:\n",
    "        df['PCT ' + t] = df[t].pct_change()\n",
    "    \n",
    "    # Drop null vals\n",
    "    df.dropna(subset=['PCT ' + t for t in tickers], inplace=True)\n",
    "\n",
    "    return df\n",
    "\n",
    "### Function Call to Compute the Percentage Change\n",
    "stock_data = pct_change(tickers, stock_data)\n",
    "print(stock_data.head())\n"
   ]
  },
  {
   "cell_type": "code",
   "execution_count": 55,
   "id": "a6f209ca",
   "metadata": {},
   "outputs": [
    {
     "name": "stdout",
     "output_type": "stream",
     "text": [
      "Signal MMM: 3 buy signals generated\n",
      "Signal AOS: 1 buy signals generated\n",
      "Signal ABT: 3 buy signals generated\n",
      "Signal ABBV: 1 buy signals generated\n",
      "Signal ACN: 7 buy signals generated\n",
      "Signal ADBE: 1 buy signals generated\n",
      "Signal AMD: 2 buy signals generated\n",
      "          Date         MMM         AOS         ABT        ABBV         ACN  \\\n",
      "97  2025-05-23  183.259995  131.300003  309.579987  407.690002  110.309998   \n",
      "98  2025-05-27  185.720001  132.940002  315.429993  413.100006  114.559998   \n",
      "99  2025-05-28  183.089996  132.020004  315.989990  412.230011  112.860001   \n",
      "100 2025-05-29  185.619995  132.850006  317.730011  413.359985  113.029999   \n",
      "101 2025-05-30  186.110001  133.580002  316.820007  415.089996  110.730003   \n",
      "\n",
      "          ADBE         AMD   PCT MMM   PCT AOS  ...   PCT ACN  PCT ADBE  \\\n",
      "97   67.019997  147.619995  0.003944 -0.001521  ... -0.003613 -0.005195   \n",
      "98   68.570000  149.490005  0.013424  0.012490  ...  0.038528  0.023127   \n",
      "99   64.230003  148.660004 -0.014161 -0.006920  ... -0.014839 -0.063293   \n",
      "100  64.730003  149.630005  0.013818  0.006287  ...  0.001506  0.007785   \n",
      "101  64.309998  148.350006  0.002640  0.005495  ... -0.020349 -0.006489   \n",
      "\n",
      "      PCT AMD  Signal MMM  Signal AOS  Signal ABT  Signal ABBV  Signal ACN  \\\n",
      "97  -0.009594           0           0           0            0           0   \n",
      "98   0.012668           0           0           0            0           0   \n",
      "99  -0.005552           0           0           0            0           0   \n",
      "100  0.006525           0           0           0            0           0   \n",
      "101 -0.008554           0           0           0            0           0   \n",
      "\n",
      "     Signal ADBE  Signal AMD  \n",
      "97             0           0  \n",
      "98             0           0  \n",
      "99             1           0  \n",
      "100            0           0  \n",
      "101            0           0  \n",
      "\n",
      "[5 rows x 22 columns]\n"
     ]
    }
   ],
   "source": [
    "### Generate Buy Signals\n",
    "''' \n",
    "Generate a \"BUY\" signal if the stock loses more than 5% of its value in a single day\n",
    "'''\n",
    "def generate_signals(df, drop_threshold):\n",
    "    \"\"\"\n",
    "    Generate 'BUY' signals if a stock drops more than the threshold in a day.\n",
    "    \"\"\"\n",
    "    for t in tickers:\n",
    "        df['Signal ' + t] = (df['PCT ' + t] < drop_threshold).astype(int)\n",
    "        # Test to see the number of generated signals\n",
    "        print(f\"{'Signal ' + t}: {df['Signal ' + t].sum()} buy signals generated\")\n",
    "\n",
    "    return df\n",
    "\n",
    "### Function Retun to Generate Buy Signals\n",
    "stock_data = generate_signals(stock_data, drop_threshold = -0.05)\n",
    "print(stock_data.tail())\n"
   ]
  },
  {
   "cell_type": "code",
   "execution_count": 56,
   "id": "e63877c6",
   "metadata": {},
   "outputs": [],
   "source": [
    "### Trade Simulation Function\n",
    "''' \n",
    "Enter trade the day after the signal and exit after a fixed holding period (ex. 5 days)\n",
    "'''\n",
    "def trade_sim(ticker, df, holding_days):\n",
    "    trades = []\n",
    "\n",
    "    try:\n",
    "        # Iterate over the df, stopping with the number of holding days left (avoids out of bounds error) \n",
    "        for i in range(len(df) - holding_days):\n",
    "            # Identify the Buy Signals - Locate rows with a \"1\" indicator\n",
    "            if df.iloc[i][f'Signal {ticker}'] == 1:\n",
    "                # Set Entry/Exit Date - For each signal date (i), set the entry date to be the next trading day (i + 1)\n",
    "                entry_idx = i + 1\n",
    "                exit_idx = i + holding_days\n",
    "\n",
    "                entry_date = df.index[entry_idx]\n",
    "                exit_date = df.index[exit_idx]\n",
    "                # Record Entry and Exit Prices\n",
    "                entry_price = df.iloc[entry_idx][ticker]\n",
    "                exit_price = df.iloc[exit_idx][ticker]\n",
    "                # Compute the Returns for the Asset\n",
    "                rets = (exit_price / entry_price) - 1\n",
    "\n",
    "                trades.append({\n",
    "                    'Ticker': ticker,\n",
    "                    'Entry Date': entry_date,\n",
    "                    'Exit Date': exit_date,\n",
    "                    'Entry Price': entry_price,\n",
    "                    'Exit Price': exit_price,\n",
    "                    'Return': rets\n",
    "                })\n",
    "\n",
    "        return pd.DataFrame(trades)\n",
    "\n",
    "    except KeyError as e:\n",
    "        print(f\"Skipping {ticker}: missing column {e}\")\n",
    "        return pd.DataFrame()  # Return empty DataFrame on failure\n",
    "\n",
    "    except Exception as e:\n",
    "        print(f\"Error with {ticker}: {e}\")\n",
    "        return pd.DataFrame()\n",
    "\n"
   ]
  },
  {
   "cell_type": "code",
   "execution_count": null,
   "id": "04e92d5d",
   "metadata": {},
   "outputs": [
    {
     "name": "stdout",
     "output_type": "stream",
     "text": [
      "   Ticker  Entry Date  Exit Date  Entry Price  Exit Price    Return\n",
      "0     MMM          64         77   184.841782  186.059998  0.006591\n",
      "1     MMM          66         79   178.193222  193.509995  0.085956\n",
      "2     AOS          64         77   124.284294  128.850006  0.036736\n",
      "3     ABT          34         47   362.114349  315.505493 -0.128713\n",
      "4     ABT          53         66   303.813477  298.459991 -0.017621\n",
      "5     ABT          64         77   283.315094  293.390015  0.035561\n",
      "6    ABBV          48         61   394.739990  385.779999 -0.022698\n",
      "7     ACN          16         29   114.169998  113.099998 -0.009372\n",
      "8     ACN          23         36   110.160004  104.739998 -0.049201\n",
      "9     ACN          63         76    85.760002   94.470001  0.101562\n",
      "10    ACN          64         77    83.639999   96.650002  0.155548\n",
      "11    ACN          66         79    96.839996   96.059998 -0.008055\n",
      "12    ACN          68         81    93.400002   96.650002  0.034797\n",
      "13    ACN          72         85    87.500000  100.360001  0.146971\n",
      "14    AMD          63         76   126.291466  138.203125  0.094319\n",
      "15    AMD          64         77   127.923477  136.650742  0.068223\n"
     ]
    }
   ],
   "source": [
    "### Function to combine all trade data in one df\n",
    "def simulate_all_trades(tickers, df, holding_days):\n",
    "    \"\"\"\n",
    "    Simulate trades for each ticker and combine into one DataFrame.\n",
    "    Skips tickers with missing price or signal columns.\n",
    "    \"\"\"\n",
    "    all_trades = []\n",
    "\n",
    "    for ticker in tickers:\n",
    "        try:\n",
    "            # Function call to run the trade sim\n",
    "            trades_df = trade_sim(ticker, df, holding_days)\n",
    "            # If the ticker never fell by 5% then it won't be included, so we omit it\n",
    "            if not trades_df.empty:\n",
    "                all_trades.append(trades_df)\n",
    "        except Exception as e:\n",
    "            print(f\"Skipping {ticker}: {e}\")\n",
    "    \n",
    "    if all_trades:\n",
    "        return pd.concat(all_trades, ignore_index=True)\n",
    "    else:\n",
    "        return pd.DataFrame(columns = ['Ticker', 'Entry Date', 'Exit Date', 'Entry Price', 'Exit Price', 'Return'])\n",
    "    \n",
    "### Function to Simulate all Trades and store in one df\n",
    "full_trades_df = simulate_all_trades(tickers, stock_data, holding_days = 14)\n",
    "print(full_trades_df)\n"
   ]
  },
  {
   "cell_type": "code",
   "execution_count": null,
   "id": "e16f780f",
   "metadata": {},
   "outputs": [
    {
     "name": "stdout",
     "output_type": "stream",
     "text": [
      "Number of Trades: 16\n",
      "Total Return: 61.99%\n",
      "Average Trade Return: 3.32%\n",
      "Win Rate: 62.50%\n",
      "Sharpe Ratio: 1.89\n"
     ]
    }
   ],
   "source": [
    "### Evaluate Total Performance\n",
    "def performance_metrics(df, holding_days):\n",
    "    # Total Return\n",
    "    total_rets = (1 + df['Return']).prod() - 1\n",
    "    # Avg Return\n",
    "    avg_rets = df['Return'].mean()\n",
    "    # Win Rate = Num Winning Trades / Total Trades\n",
    "    win_rate = (df['Return'] > 0).mean()\n",
    "    # Sharpe Ratio\n",
    "    sharpe = (avg_rets / df['Return'].std()) * np.sqrt(252 / holding_days)\n",
    "\n",
    "    print(f\"Number of Trades: {len(df)}\")\n",
    "    print(f\"Total Return: {total_rets:.2%}\")\n",
    "    print(f\"Average Trade Return: {avg_rets:.2%}\")\n",
    "    print(f\"Win Rate: {win_rate:.2%}\")\n",
    "    print(f\"Sharpe Ratio: {sharpe:.2f}\")\n",
    "\n",
    "### Function Return to Evaluate Total Performance\n",
    "metrics = performance_metrics(full_trades_df, holding_days = 14)\n"
   ]
  }
 ],
 "metadata": {
  "kernelspec": {
   "display_name": "base",
   "language": "python",
   "name": "python3"
  },
  "language_info": {
   "codemirror_mode": {
    "name": "ipython",
    "version": 3
   },
   "file_extension": ".py",
   "mimetype": "text/x-python",
   "name": "python",
   "nbconvert_exporter": "python",
   "pygments_lexer": "ipython3",
   "version": "3.8.18"
  }
 },
 "nbformat": 4,
 "nbformat_minor": 5
}
