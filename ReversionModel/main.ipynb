{
 "cells": [
  {
   "cell_type": "code",
   "execution_count": 56,
   "id": "8a49b942",
   "metadata": {},
   "outputs": [],
   "source": [
    "### Library Imports\n",
    "import pandas as pd\n",
    "import yfinance as yf\n",
    "import numpy as np\n",
    "from scipy import stats\n",
    "import datetime\n",
    "import matplotlib.pyplot as plt\n"
   ]
  },
  {
   "cell_type": "code",
   "execution_count": 57,
   "id": "7139e9f5",
   "metadata": {},
   "outputs": [
    {
     "name": "stderr",
     "output_type": "stream",
     "text": [
      "/var/folders/n5/bknqp6qs37l5l4bwv9wv3bs40000gn/T/ipykernel_53809/17277343.py:5: FutureWarning: YF.download() has changed argument auto_adjust default to True\n",
      "  data[tickers] = yf.download(tickers, start_date, end_date)['Close']\n",
      "[*********************100%***********************]  2 of 2 completed"
     ]
    },
    {
     "name": "stdout",
     "output_type": "stream",
     "text": [
      "        Date        AAPL        MSFT\n",
      "0 2025-01-02  243.263199  416.976868\n",
      "1 2025-01-03  242.774368  421.728607\n",
      "2 2025-01-06  244.410416  426.211365\n",
      "3 2025-01-07  241.627136  420.752350\n",
      "4 2025-01-08  242.115952  422.933960\n"
     ]
    },
    {
     "name": "stderr",
     "output_type": "stream",
     "text": [
      "\n"
     ]
    }
   ],
   "source": [
    "### Function to Import Stock Data\n",
    "def import_stock_data(tickers, start_date, end_date):\n",
    "    data = pd.DataFrame()\n",
    "    if len([tickers]) == 1:\n",
    "        data[tickers] = yf.download(tickers, start_date, end_date)['Close']\n",
    "        data = pd.DataFrame(data)\n",
    "    else:\n",
    "        for t in tickers:\n",
    "            data[t] = yf.download(tickers, start_date, end_date)['Close']\n",
    "    \n",
    "    # Reset index to include the Date as a column\n",
    "    data = data.reset_index()\n",
    "\n",
    "    return data\n",
    "\n",
    "tickers = ['AAPL', 'MSFT']\n",
    "start_date = '2025-01-01'\n",
    "end_date = '2025-06-01'\n",
    "stock_data = import_stock_data(tickers, start_date, end_date)\n",
    "print(stock_data.head())\n"
   ]
  },
  {
   "cell_type": "code",
   "execution_count": 58,
   "id": "09dcd4b0",
   "metadata": {},
   "outputs": [
    {
     "name": "stdout",
     "output_type": "stream",
     "text": [
      "        Date        AAPL        MSFT  PCT AAPL  PCT MSFT\n",
      "1 2025-01-03  242.774368  421.728607 -0.002009  0.011396\n",
      "2 2025-01-06  244.410416  426.211365  0.006739  0.010629\n",
      "3 2025-01-07  241.627136  420.752350 -0.011388 -0.012808\n",
      "4 2025-01-08  242.115952  422.933960  0.002023  0.005185\n",
      "5 2025-01-10  236.280045  417.345459 -0.024104 -0.013214\n"
     ]
    }
   ],
   "source": [
    "### Compute the Percentage Change\n",
    "def pct_change(tickers, df):\n",
    "    # Add col with daily pct change for each ticker\n",
    "    for t in tickers:\n",
    "        df['PCT ' + t] = df[t].pct_change()\n",
    "    \n",
    "    # Drop null vals\n",
    "    df.dropna(subset=['PCT ' + t for t in tickers], inplace=True)\n",
    "\n",
    "    return df\n",
    "\n",
    "### Function Call to Compute the Percentage Change\n",
    "stock_data = pct_change(tickers, stock_data)\n",
    "print(stock_data.head())\n"
   ]
  },
  {
   "cell_type": "code",
   "execution_count": 59,
   "id": "1717a623",
   "metadata": {},
   "outputs": [
    {
     "name": "stdout",
     "output_type": "stream",
     "text": [
      "Signal AAPL: 20 buy signals generated\n",
      "Signal MSFT: 10 buy signals generated\n",
      "        Date        AAPL        MSFT  PCT AAPL  PCT MSFT  Signal AAPL  \\\n",
      "1 2025-01-03  242.774368  421.728607 -0.002009  0.011396            0   \n",
      "2 2025-01-06  244.410416  426.211365  0.006739  0.010629            0   \n",
      "3 2025-01-07  241.627136  420.752350 -0.011388 -0.012808            0   \n",
      "4 2025-01-08  242.115952  422.933960  0.002023  0.005185            0   \n",
      "5 2025-01-10  236.280045  417.345459 -0.024104 -0.013214            1   \n",
      "\n",
      "   Signal MSFT  \n",
      "1            0  \n",
      "2            0  \n",
      "3            0  \n",
      "4            0  \n",
      "5            0  \n"
     ]
    }
   ],
   "source": [
    "### Generate Buy Signals\n",
    "''' \n",
    "Generate a \"BUY\" signal if the stock loses more than 5% of its value in a single day\n",
    "'''\n",
    "def generate_signals(df, drop_threshold):\n",
    "    \"\"\"\n",
    "    Generate 'BUY' signals if a stock drops more than the threshold in a day.\n",
    "    \"\"\"\n",
    "    for t in tickers:\n",
    "        signal_col = 'Signal ' + t # Fix this logic - don't like col title vars for strings\n",
    "        pct_col = 'PCT ' + t\n",
    "        df[signal_col] = (df[pct_col] < drop_threshold).astype(int)\n",
    "        # Test to see the number of generated signals\n",
    "        print(f\"{signal_col}: {df[signal_col].sum()} buy signals generated\")\n",
    "\n",
    "    return df\n",
    "\n",
    "### Function Retun to Generate Buy Signals\n",
    "stock_data = generate_signals(stock_data, drop_threshold = -0.02)\n",
    "print(stock_data.head())\n"
   ]
  },
  {
   "cell_type": "code",
   "execution_count": null,
   "id": "3f77d4d3",
   "metadata": {},
   "outputs": [
    {
     "ename": "SyntaxError",
     "evalue": "invalid syntax (3001254060.py, line 38)",
     "output_type": "error",
     "traceback": [
      "\u001b[0;36m  Cell \u001b[0;32mIn[64], line 38\u001b[0;36m\u001b[0m\n\u001b[0;31m    trades = trade_sim(stock_data, holding_days = 5)\u001b[0m\n\u001b[0m    ^\u001b[0m\n\u001b[0;31mSyntaxError\u001b[0m\u001b[0;31m:\u001b[0m invalid syntax\n"
     ]
    }
   ],
   "source": [
    "### Trade Simulation Function\n",
    "''' \n",
    "Enter trade the day after the signal and exit after a fixed holding period (ex. 5 days)\n",
    "'''\n",
    "def trade_sim(df, holding_days):\n",
    "    ### Empty List to Store Trades\n",
    "    trades = []\n",
    "\n",
    "    # Iterate over the df, stopping with the number of holding days left (avoids out of bounds error) \n",
    "    for i in range(len(df) - holding_days):\n",
    "        # Identify the Buy Signals - Locate rows with a \"1\" indicator\n",
    "        if df.iloc[i]['Signal AAPL'] == 1:\n",
    "            # Set Entry/Exit Date - For each signal date (i), set the entry date to be the next trading day (i + 1)\n",
    "            entry_idx = i + 1\n",
    "            exit_idx = i + holding_days\n",
    "\n",
    "            entry_date = df.index[entry_idx]\n",
    "            exit_date = df.index[exit_idx]\n",
    "\n",
    "            # Record Entry and Exit Prices\n",
    "            entry_price = df.iloc[entry_idx]['AAPL']\n",
    "            exit_price = df.iloc[exit_idx]['AAPL']\n",
    "\n",
    "            # Compute the Return for the Asset\n",
    "            returns = (exit_price / entry_price) - 1\n",
    "\n",
    "            # Save trade to list\n",
    "            trades.append({\n",
    "                'Entry Date': entry_date,\n",
    "                'Exit Date': exit_date,\n",
    "                'Entry Price': entry_price,\n",
    "                'Exit Price': exit_price,\n",
    "                'Return': returns\n",
    "            })\n",
    "\n",
    "    return pd.DataFrame(trades, columns = ['Entry Date', 'Exit Date', 'Entry Price', 'Exit Price', 'Return'])\n",
    "\n",
    "trades = trade_sim(stock_data, holding_days = 5)\n",
    "print(trades)\n"
   ]
  }
 ],
 "metadata": {
  "kernelspec": {
   "display_name": "base",
   "language": "python",
   "name": "python3"
  },
  "language_info": {
   "codemirror_mode": {
    "name": "ipython",
    "version": 3
   },
   "file_extension": ".py",
   "mimetype": "text/x-python",
   "name": "python",
   "nbconvert_exporter": "python",
   "pygments_lexer": "ipython3",
   "version": "3.8.18"
  }
 },
 "nbformat": 4,
 "nbformat_minor": 5
}
