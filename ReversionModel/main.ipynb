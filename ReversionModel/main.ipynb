{
 "cells": [
  {
   "cell_type": "code",
   "execution_count": 25,
   "id": "8a49b942",
   "metadata": {},
   "outputs": [],
   "source": [
    "### Library Imports\n",
    "import pandas as pd\n",
    "import yfinance as yf\n",
    "import numpy as np\n",
    "from scipy import stats\n",
    "import datetime\n",
    "import matplotlib.pyplot as plt\n"
   ]
  },
  {
   "cell_type": "code",
   "execution_count": 26,
   "id": "7139e9f5",
   "metadata": {},
   "outputs": [
    {
     "name": "stderr",
     "output_type": "stream",
     "text": [
      "/var/folders/n5/bknqp6qs37l5l4bwv9wv3bs40000gn/T/ipykernel_53809/17277343.py:5: FutureWarning: YF.download() has changed argument auto_adjust default to True\n",
      "  data[tickers] = yf.download(tickers, start_date, end_date)['Close']\n",
      "[*********************100%***********************]  2 of 2 completed"
     ]
    },
    {
     "name": "stdout",
     "output_type": "stream",
     "text": [
      "        Date        AAPL        MSFT\n",
      "0 2025-01-02  243.263199  416.976868\n",
      "1 2025-01-03  242.774368  421.728607\n",
      "2 2025-01-06  244.410416  426.211365\n",
      "3 2025-01-07  241.627136  420.752350\n",
      "4 2025-01-08  242.115952  422.933960\n"
     ]
    },
    {
     "name": "stderr",
     "output_type": "stream",
     "text": [
      "\n"
     ]
    }
   ],
   "source": [
    "### Function to Import Stock Data\n",
    "def import_stock_data(tickers, start_date, end_date):\n",
    "    data = pd.DataFrame()\n",
    "    if len([tickers]) == 1:\n",
    "        data[tickers] = yf.download(tickers, start_date, end_date)['Close']\n",
    "        data = pd.DataFrame(data)\n",
    "    else:\n",
    "        for t in tickers:\n",
    "            data[t] = yf.download(tickers, start_date, end_date)['Close']\n",
    "    \n",
    "    # Reset index to include the Date as a column\n",
    "    data = data.reset_index()\n",
    "\n",
    "    return data\n",
    "\n",
    "tickers = ['AAPL', 'MSFT']\n",
    "start_date = '2025-01-01'\n",
    "end_date = '2025-06-01'\n",
    "stock_data = import_stock_data(tickers, start_date, end_date)\n",
    "print(stock_data.head())\n"
   ]
  },
  {
   "cell_type": "code",
   "execution_count": 27,
   "id": "09dcd4b0",
   "metadata": {},
   "outputs": [
    {
     "name": "stdout",
     "output_type": "stream",
     "text": [
      "          Date        AAPL        MSFT  PCT AAPL  PCT MSFT\n",
      "97  2025-05-23  195.270004  450.179993 -0.030244 -0.010289\n",
      "98  2025-05-27  200.210007  460.690002  0.025298  0.023346\n",
      "99  2025-05-28  200.419998  457.359985  0.001049 -0.007228\n",
      "100 2025-05-29  199.949997  458.679993 -0.002345  0.002886\n",
      "101 2025-05-30  200.850006  460.359985  0.004501  0.003663\n"
     ]
    }
   ],
   "source": [
    "### Compute the Percentage Change\n",
    "def pct_change(tickers, df):\n",
    "    # Add col with daily pct change for each ticker\n",
    "    for t in tickers:\n",
    "        df['PCT ' + t] = df[t].pct_change()\n",
    "\n",
    "    return df\n",
    "\n",
    "### Function Call to Compute the Percentage Change\n",
    "stock_data = pct_change(tickers, stock_data)\n",
    "print(stock_data.tail())\n"
   ]
  },
  {
   "cell_type": "code",
   "execution_count": null,
   "id": "1717a623",
   "metadata": {},
   "outputs": [
    {
     "name": "stdout",
     "output_type": "stream",
     "text": [
      "Signal AAPL: 20 buy signals generated\n",
      "Signal MSFT: 10 buy signals generated\n",
      "        Date        AAPL        MSFT  PCT AAPL  PCT MSFT  Signal AAPL  \\\n",
      "0 2025-01-02  243.263199  416.976868       NaN       NaN            0   \n",
      "1 2025-01-03  242.774368  421.728607 -0.002009  0.011396            0   \n",
      "2 2025-01-06  244.410416  426.211365  0.006739  0.010629            0   \n",
      "3 2025-01-07  241.627136  420.752350 -0.011388 -0.012808            0   \n",
      "4 2025-01-08  242.115952  422.933960  0.002023  0.005185            0   \n",
      "5 2025-01-10  236.280045  417.345459 -0.024104 -0.013214            1   \n",
      "6 2025-01-13  233.835922  415.592194 -0.010344 -0.004201            0   \n",
      "7 2025-01-14  232.718613  414.078033 -0.004778 -0.003643            0   \n",
      "8 2025-01-15  237.297562  424.677246  0.019676  0.025597            0   \n",
      "9 2025-01-16  227.710693  422.953857 -0.040400 -0.004058            1   \n",
      "\n",
      "   Signal MSFT  \n",
      "0            0  \n",
      "1            0  \n",
      "2            0  \n",
      "3            0  \n",
      "4            0  \n",
      "5            0  \n",
      "6            0  \n",
      "7            0  \n",
      "8            0  \n",
      "9            0  \n"
     ]
    }
   ],
   "source": [
    "### Generate Buy Signals\n",
    "''' \n",
    "Generate a \"BUY\" signal if the stock loses more than 5% of its value in a single day\n",
    "'''\n",
    "def generate_signals(df, drop_threshold):\n",
    "    \"\"\"\n",
    "    Generate 'BUY' signals if a stock drops more than the threshold in a day.\n",
    "    \"\"\"\n",
    "    for t in tickers:\n",
    "        signal_col = 'Signal ' + t\n",
    "        pct_col = 'PCT ' + t\n",
    "        df[signal_col] = (df[pct_col] < drop_threshold).astype(int)\n",
    "        # Test to see the number of generated signals\n",
    "        print(f\"{signal_col}: {df[signal_col].sum()} buy signals generated\")\n",
    "\n",
    "    return df\n",
    "\n",
    "### Function Retun to Generate Buy Signals\n",
    "stock_data = generate_signals(stock_data, drop_threshold = -0.02)\n",
    "print(stock_data.head(10))\n"
   ]
  }
 ],
 "metadata": {
  "kernelspec": {
   "display_name": "base",
   "language": "python",
   "name": "python3"
  },
  "language_info": {
   "codemirror_mode": {
    "name": "ipython",
    "version": 3
   },
   "file_extension": ".py",
   "mimetype": "text/x-python",
   "name": "python",
   "nbconvert_exporter": "python",
   "pygments_lexer": "ipython3",
   "version": "3.8.18"
  }
 },
 "nbformat": 4,
 "nbformat_minor": 5
}
