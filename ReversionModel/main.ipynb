{
 "cells": [
  {
   "cell_type": "code",
   "execution_count": 122,
   "id": "8a49b942",
   "metadata": {},
   "outputs": [],
   "source": [
    "### Library Imports\n",
    "import pandas as pd\n",
    "import yfinance as yf\n",
    "import numpy as np\n",
    "from scipy import stats\n",
    "import datetime\n",
    "import matplotlib.pyplot as plt\n"
   ]
  },
  {
   "cell_type": "code",
   "execution_count": 123,
   "id": "a5d7d512",
   "metadata": {},
   "outputs": [
    {
     "name": "stdout",
     "output_type": "stream",
     "text": [
      "['MMM', 'AOS', 'ABT', 'ABBV', 'ACN', 'ADBE', 'AMD', 'AES', 'AFL', 'A', 'APD', 'ABNB', 'AKAM', 'ALB', 'ARE', 'ALGN', 'ALLE', 'LNT', 'ALL', 'GOOGL', 'GOOG', 'MO', 'AMZN', 'AMCR', 'AEE', 'AEP', 'AXP', 'AIG', 'AMT', 'AWK', 'AMP', 'AME', 'AMGN', 'APH', 'ADI', 'ANSS', 'AON', 'APA', 'APO', 'AAPL', 'AMAT', 'APTV', 'ACGL', 'ADM', 'ANET', 'AJG', 'AIZ', 'T', 'ATO', 'ADSK', 'ADP', 'AZO', 'AVB', 'AVY', 'AXON', 'BKR', 'BALL', 'BAC', 'BAX', 'BDX', 'BRK-B', 'BBY', 'TECH', 'BIIB', 'BLK', 'BX', 'BK', 'BA', 'BKNG', 'BSX', 'BMY', 'AVGO', 'BR', 'BRO', 'BF-B', 'BLDR', 'BG', 'BXP', 'CHRW', 'CDNS', 'CZR', 'CPT', 'CPB', 'COF', 'CAH', 'KMX', 'CCL', 'CARR', 'CAT', 'CBOE', 'CBRE', 'CDW', 'COR', 'CNC', 'CNP', 'CF', 'CRL', 'SCHW', 'CHTR', 'CVX', 'CMG', 'CB', 'CHD', 'CI', 'CINF', 'CTAS', 'CSCO', 'C', 'CFG', 'CLX', 'CME', 'CMS', 'KO', 'CTSH', 'COIN', 'CL', 'CMCSA', 'CAG', 'COP', 'ED', 'STZ', 'CEG', 'COO', 'CPRT', 'GLW', 'CPAY', 'CTVA', 'CSGP', 'COST', 'CTRA', 'CRWD', 'CCI', 'CSX', 'CMI', 'CVS', 'DHR', 'DRI', 'DVA', 'DAY', 'DECK', 'DE', 'DELL', 'DAL', 'DVN', 'DXCM', 'FANG', 'DLR', 'DG', 'DLTR', 'D', 'DPZ', 'DASH', 'DOV', 'DOW', 'DHI', 'DTE', 'DUK', 'DD', 'EMN', 'ETN', 'EBAY', 'ECL', 'EIX', 'EW', 'EA', 'ELV', 'EMR', 'ENPH', 'ETR', 'EOG', 'EPAM', 'EQT', 'EFX', 'EQIX', 'EQR', 'ERIE', 'ESS', 'EL', 'EG', 'EVRG', 'ES', 'EXC', 'EXE', 'EXPE', 'EXPD', 'EXR', 'XOM', 'FFIV', 'FDS', 'FICO', 'FAST', 'FRT', 'FDX', 'FIS', 'FITB', 'FSLR', 'FE', 'FI', 'F', 'FTNT', 'FTV', 'FOXA', 'FOX', 'BEN', 'FCX', 'GRMN', 'IT', 'GE', 'GEHC', 'GEV', 'GEN', 'GNRC', 'GD', 'GIS', 'GM', 'GPC', 'GILD', 'GPN', 'GL', 'GDDY', 'GS', 'HAL', 'HIG', 'HAS', 'HCA', 'DOC', 'HSIC', 'HSY', 'HES', 'HPE', 'HLT', 'HOLX', 'HD', 'HON', 'HRL', 'HST', 'HWM', 'HPQ', 'HUBB', 'HUM', 'HBAN', 'HII', 'IBM', 'IEX', 'IDXX', 'ITW', 'INCY', 'IR', 'PODD', 'INTC', 'ICE', 'IFF', 'IP', 'IPG', 'INTU', 'ISRG', 'IVZ', 'INVH', 'IQV', 'IRM', 'JBHT', 'JBL', 'JKHY', 'J', 'JNJ', 'JCI', 'JPM', 'JNPR', 'K', 'KVUE', 'KDP', 'KEY', 'KEYS', 'KMB', 'KIM', 'KMI', 'KKR', 'KLAC', 'KHC', 'KR', 'LHX', 'LH', 'LRCX', 'LW', 'LVS', 'LDOS', 'LEN', 'LII', 'LLY', 'LIN', 'LYV', 'LKQ', 'LMT', 'L', 'LOW', 'LULU', 'LYB', 'MTB', 'MPC', 'MKTX', 'MAR', 'MMC', 'MLM', 'MAS', 'MA', 'MTCH', 'MKC', 'MCD', 'MCK', 'MDT', 'MRK', 'META', 'MET', 'MTD', 'MGM', 'MCHP', 'MU', 'MSFT', 'MAA', 'MRNA', 'MHK', 'MOH', 'TAP', 'MDLZ', 'MPWR', 'MNST', 'MCO', 'MS', 'MOS', 'MSI', 'MSCI', 'NDAQ', 'NTAP', 'NFLX', 'NEM', 'NWSA', 'NWS', 'NEE', 'NKE', 'NI', 'NDSN', 'NSC', 'NTRS', 'NOC', 'NCLH', 'NRG', 'NUE', 'NVDA', 'NVR', 'NXPI', 'ORLY', 'OXY', 'ODFL', 'OMC', 'ON', 'OKE', 'ORCL', 'OTIS', 'PCAR', 'PKG', 'PLTR', 'PANW', 'PARA', 'PH', 'PAYX', 'PAYC', 'PYPL', 'PNR', 'PEP', 'PFE', 'PCG', 'PM', 'PSX', 'PNW', 'PNC', 'POOL', 'PPG', 'PPL', 'PFG', 'PG', 'PGR', 'PLD', 'PRU', 'PEG', 'PTC', 'PSA', 'PHM', 'PWR', 'QCOM', 'DGX', 'RL', 'RJF', 'RTX', 'O', 'REG', 'REGN', 'RF', 'RSG', 'RMD', 'RVTY', 'ROK', 'ROL', 'ROP', 'ROST', 'RCL', 'SPGI', 'CRM', 'SBAC', 'SLB', 'STX', 'SRE', 'NOW', 'SHW', 'SPG', 'SWKS', 'SJM', 'SW', 'SNA', 'SOLV', 'SO', 'LUV', 'SWK', 'SBUX', 'STT', 'STLD', 'STE', 'SYK', 'SMCI', 'SYF', 'SNPS', 'SYY', 'TMUS', 'TROW', 'TTWO', 'TPR', 'TRGP', 'TGT', 'TEL', 'TDY', 'TER', 'TSLA', 'TXN', 'TPL', 'TXT', 'TMO', 'TJX', 'TKO', 'TSCO', 'TT', 'TDG', 'TRV', 'TRMB', 'TFC', 'TYL', 'TSN', 'USB', 'UBER', 'UDR', 'ULTA', 'UNP', 'UAL', 'UPS', 'URI', 'UNH', 'UHS', 'VLO', 'VTR', 'VLTO', 'VRSN', 'VRSK', 'VZ', 'VRTX', 'VTRS', 'VICI', 'V', 'VST', 'VMC', 'WRB', 'GWW', 'WAB', 'WBA', 'WMT', 'DIS', 'WBD', 'WM', 'WAT', 'WEC', 'WFC', 'WELL', 'WST', 'WDC', 'WY', 'WSM', 'WMB', 'WTW', 'WDAY', 'WYNN', 'XEL', 'XYL', 'YUM', 'ZBRA', 'ZBH', 'ZTS']\n"
     ]
    }
   ],
   "source": [
    "### Function to Get All Tickers\n",
    "def get_tickers(url):\n",
    "    \n",
    "    tickers_list = []\n",
    "    # Get Tickers into df\n",
    "    df = pd.read_html(url)\n",
    "    # Convert the df to a list\n",
    "    table = df[0]  # First table contains tickers\n",
    "    tickers = table['Symbol'].tolist()\n",
    "    # Yahoo Finance uses '-' instead of '.' (e.g., BRK.B → BRK-B)\n",
    "    tickers_list = [ticker.replace('.', '-') for ticker in tickers]\n",
    "\n",
    "    return tickers_list\n",
    "\n",
    "url = 'https://en.wikipedia.org/wiki/List_of_S%26P_500_companies'\n",
    "all_tickers = get_tickers(url)\n",
    "print(all_tickers)\n"
   ]
  },
  {
   "cell_type": "code",
   "execution_count": 124,
   "id": "7139e9f5",
   "metadata": {},
   "outputs": [
    {
     "name": "stderr",
     "output_type": "stream",
     "text": [
      "/var/folders/n5/bknqp6qs37l5l4bwv9wv3bs40000gn/T/ipykernel_53809/17277343.py:5: FutureWarning: YF.download() has changed argument auto_adjust default to True\n",
      "  data[tickers] = yf.download(tickers, start_date, end_date)['Close']\n",
      "[*********************100%***********************]  2 of 2 completed"
     ]
    },
    {
     "name": "stdout",
     "output_type": "stream",
     "text": [
      "        Date        AAPL        MSFT\n",
      "0 2025-01-02  243.263199  416.976868\n",
      "1 2025-01-03  242.774368  421.728607\n",
      "2 2025-01-06  244.410416  426.211365\n",
      "3 2025-01-07  241.627136  420.752350\n",
      "4 2025-01-08  242.115952  422.933960\n"
     ]
    },
    {
     "name": "stderr",
     "output_type": "stream",
     "text": [
      "\n"
     ]
    }
   ],
   "source": [
    "### Function to Import Stock Data\n",
    "def import_stock_data(tickers, start_date, end_date):\n",
    "    data = pd.DataFrame()\n",
    "    if len([tickers]) == 1:\n",
    "        data[tickers] = yf.download(tickers, start_date, end_date)['Close']\n",
    "        data = pd.DataFrame(data)\n",
    "    else:\n",
    "        for t in tickers:\n",
    "            data[t] = yf.download(tickers, start_date, end_date)['Close']\n",
    "    \n",
    "    # Reset index to include the Date as a column\n",
    "    data = data.reset_index()\n",
    "\n",
    "    return data\n",
    "\n",
    "tickers = ['AAPL', 'MSFT']\n",
    "start_date = '2025-01-01'\n",
    "end_date = '2025-06-01'\n",
    "stock_data = import_stock_data(tickers, start_date, end_date)\n",
    "print(stock_data.head())\n"
   ]
  },
  {
   "cell_type": "code",
   "execution_count": 125,
   "id": "09dcd4b0",
   "metadata": {},
   "outputs": [
    {
     "name": "stdout",
     "output_type": "stream",
     "text": [
      "        Date        AAPL        MSFT  PCT AAPL  PCT MSFT\n",
      "1 2025-01-03  242.774368  421.728607 -0.002009  0.011396\n",
      "2 2025-01-06  244.410416  426.211365  0.006739  0.010629\n",
      "3 2025-01-07  241.627136  420.752350 -0.011388 -0.012808\n",
      "4 2025-01-08  242.115952  422.933960  0.002023  0.005185\n",
      "5 2025-01-10  236.280045  417.345459 -0.024104 -0.013214\n"
     ]
    }
   ],
   "source": [
    "### Compute the Percentage Change\n",
    "def pct_change(tickers, df):\n",
    "    # Add col with daily pct change for each ticker\n",
    "    for t in tickers:\n",
    "        df['PCT ' + t] = df[t].pct_change()\n",
    "    \n",
    "    # Drop null vals\n",
    "    df.dropna(subset=['PCT ' + t for t in tickers], inplace=True)\n",
    "\n",
    "    return df\n",
    "\n",
    "### Function Call to Compute the Percentage Change\n",
    "stock_data = pct_change(tickers, stock_data)\n",
    "print(stock_data.head())\n"
   ]
  },
  {
   "cell_type": "code",
   "execution_count": 126,
   "id": "1717a623",
   "metadata": {},
   "outputs": [
    {
     "name": "stdout",
     "output_type": "stream",
     "text": [
      "Signal AAPL: 2 buy signals generated\n",
      "Signal MSFT: 1 buy signals generated\n",
      "        Date        AAPL        MSFT  PCT AAPL  PCT MSFT  Signal AAPL  \\\n",
      "1 2025-01-03  242.774368  421.728607 -0.002009  0.011396            0   \n",
      "2 2025-01-06  244.410416  426.211365  0.006739  0.010629            0   \n",
      "3 2025-01-07  241.627136  420.752350 -0.011388 -0.012808            0   \n",
      "4 2025-01-08  242.115952  422.933960  0.002023  0.005185            0   \n",
      "5 2025-01-10  236.280045  417.345459 -0.024104 -0.013214            0   \n",
      "\n",
      "   Signal MSFT  \n",
      "1            0  \n",
      "2            0  \n",
      "3            0  \n",
      "4            0  \n",
      "5            0  \n"
     ]
    }
   ],
   "source": [
    "### Generate Buy Signals\n",
    "''' \n",
    "Generate a \"BUY\" signal if the stock loses more than 5% of its value in a single day\n",
    "'''\n",
    "def generate_signals(df, drop_threshold):\n",
    "    \"\"\"\n",
    "    Generate 'BUY' signals if a stock drops more than the threshold in a day.\n",
    "    \"\"\"\n",
    "    for t in tickers:\n",
    "        df['Signal ' + t] = (df['PCT ' + t] < drop_threshold).astype(int)\n",
    "        # Test to see the number of generated signals\n",
    "        print(f\"{'Signal ' + t}: {df['Signal ' + t].sum()} buy signals generated\")\n",
    "\n",
    "    return df\n",
    "\n",
    "### Function Retun to Generate Buy Signals\n",
    "stock_data = generate_signals(stock_data, drop_threshold = -0.05)\n",
    "print(stock_data.head())\n"
   ]
  },
  {
   "cell_type": "code",
   "execution_count": 127,
   "id": "3f77d4d3",
   "metadata": {},
   "outputs": [
    {
     "name": "stdout",
     "output_type": "stream",
     "text": [
      "   Entry Date  Exit Date  Entry Price  Exit Price    Return\n",
      "0          63         76   188.133301  208.097107  0.106115\n",
      "1          64         77   181.222366  209.005920  0.153312\n"
     ]
    }
   ],
   "source": [
    "### Trade Simulation Function\n",
    "''' \n",
    "Enter trade the day after the signal and exit after a fixed holding period (ex. 5 days)\n",
    "'''\n",
    "def trade_sim(ticker, df, holding_days):\n",
    "    ### Empty List to Store Trades\n",
    "    trades = []\n",
    "\n",
    "    # Iterate over the df, stopping with the number of holding days left (avoids out of bounds error) \n",
    "    for i in range(len(df) - holding_days):\n",
    "        # Identify the Buy Signals - Locate rows with a \"1\" indicator\n",
    "        if df.iloc[i]['Signal ' + ticker] == 1:\n",
    "            # Set Entry/Exit Date - For each signal date (i), set the entry date to be the next trading day (i + 1)\n",
    "            entry_idx = i + 1\n",
    "            exit_idx = i + holding_days\n",
    "\n",
    "            entry_date = df.index[entry_idx]\n",
    "            exit_date = df.index[exit_idx]\n",
    "\n",
    "            # Record Entry and Exit Prices\n",
    "            entry_price = df.iloc[entry_idx][ticker]\n",
    "            exit_price = df.iloc[exit_idx][ticker]\n",
    "\n",
    "            # Compute the Return for the Asset\n",
    "            returns = (exit_price / entry_price) - 1\n",
    "\n",
    "            # Save trade to list\n",
    "            trades.append({\n",
    "                'Entry Date': entry_date,\n",
    "                'Exit Date': exit_date,\n",
    "                'Entry Price': entry_price,\n",
    "                'Exit Price': exit_price,\n",
    "                'Return': returns\n",
    "            })\n",
    "\n",
    "    return pd.DataFrame(trades, columns = ['Entry Date', 'Exit Date', 'Entry Price', 'Exit Price', 'Return'])\n",
    "\n",
    "### Function to Return the Trade Simulation Function\n",
    "#for t in tickers:\n",
    "trades = trade_sim('AAPL', stock_data, holding_days = 14)\n",
    "print(trades)\n"
   ]
  },
  {
   "cell_type": "code",
   "execution_count": null,
   "id": "9b3cb72e",
   "metadata": {},
   "outputs": [
    {
     "ename": "KeyError",
     "evalue": "'Signal MMM'",
     "output_type": "error",
     "traceback": [
      "\u001b[0;31m---------------------------------------------------------------------------\u001b[0m",
      "\u001b[0;31mKeyError\u001b[0m                                  Traceback (most recent call last)",
      "File \u001b[0;32m~/opt/anaconda3/lib/python3.8/site-packages/pandas/core/indexes/base.py:3653\u001b[0m, in \u001b[0;36mIndex.get_loc\u001b[0;34m(self, key)\u001b[0m\n\u001b[1;32m   3652\u001b[0m \u001b[38;5;28;01mtry\u001b[39;00m:\n\u001b[0;32m-> 3653\u001b[0m     \u001b[38;5;28;01mreturn\u001b[39;00m \u001b[38;5;28;43mself\u001b[39;49m\u001b[38;5;241;43m.\u001b[39;49m\u001b[43m_engine\u001b[49m\u001b[38;5;241;43m.\u001b[39;49m\u001b[43mget_loc\u001b[49m\u001b[43m(\u001b[49m\u001b[43mcasted_key\u001b[49m\u001b[43m)\u001b[49m\n\u001b[1;32m   3654\u001b[0m \u001b[38;5;28;01mexcept\u001b[39;00m \u001b[38;5;167;01mKeyError\u001b[39;00m \u001b[38;5;28;01mas\u001b[39;00m err:\n",
      "File \u001b[0;32m~/opt/anaconda3/lib/python3.8/site-packages/pandas/_libs/index.pyx:147\u001b[0m, in \u001b[0;36mpandas._libs.index.IndexEngine.get_loc\u001b[0;34m()\u001b[0m\n",
      "File \u001b[0;32m~/opt/anaconda3/lib/python3.8/site-packages/pandas/_libs/index.pyx:176\u001b[0m, in \u001b[0;36mpandas._libs.index.IndexEngine.get_loc\u001b[0;34m()\u001b[0m\n",
      "File \u001b[0;32mpandas/_libs/hashtable_class_helper.pxi:7080\u001b[0m, in \u001b[0;36mpandas._libs.hashtable.PyObjectHashTable.get_item\u001b[0;34m()\u001b[0m\n",
      "File \u001b[0;32mpandas/_libs/hashtable_class_helper.pxi:7088\u001b[0m, in \u001b[0;36mpandas._libs.hashtable.PyObjectHashTable.get_item\u001b[0;34m()\u001b[0m\n",
      "\u001b[0;31mKeyError\u001b[0m: 'Signal MMM'",
      "\nThe above exception was the direct cause of the following exception:\n",
      "\u001b[0;31mKeyError\u001b[0m                                  Traceback (most recent call last)",
      "Cell \u001b[0;32mIn[130], line 12\u001b[0m\n\u001b[1;32m      9\u001b[0m     \u001b[38;5;66;03m# Return the concatenated all trades df\u001b[39;00m\n\u001b[1;32m     10\u001b[0m     \u001b[38;5;28;01mreturn\u001b[39;00m pd\u001b[38;5;241m.\u001b[39mconcat(all_trades, ignore_index \u001b[38;5;241m=\u001b[39m \u001b[38;5;28;01mTrue\u001b[39;00m)\n\u001b[0;32m---> 12\u001b[0m all_trades \u001b[38;5;241m=\u001b[39m \u001b[43msimulate_all_trades\u001b[49m\u001b[43m(\u001b[49m\u001b[43mall_tickers\u001b[49m\u001b[43m,\u001b[49m\u001b[43m \u001b[49m\u001b[43mstock_data\u001b[49m\u001b[43m,\u001b[49m\u001b[43m \u001b[49m\u001b[43mholding_days\u001b[49m\u001b[43m \u001b[49m\u001b[38;5;241;43m=\u001b[39;49m\u001b[43m \u001b[49m\u001b[38;5;241;43m14\u001b[39;49m\u001b[43m)\u001b[49m\n\u001b[1;32m     13\u001b[0m all_trades\u001b[38;5;241m.\u001b[39mhead()\n",
      "Cell \u001b[0;32mIn[130], line 6\u001b[0m, in \u001b[0;36msimulate_all_trades\u001b[0;34m(tickers, df, holding_days)\u001b[0m\n\u001b[1;32m      3\u001b[0m all_trades \u001b[38;5;241m=\u001b[39m []\n\u001b[1;32m      5\u001b[0m \u001b[38;5;28;01mfor\u001b[39;00m ticker \u001b[38;5;129;01min\u001b[39;00m tickers:\n\u001b[0;32m----> 6\u001b[0m     trades_df \u001b[38;5;241m=\u001b[39m \u001b[43mtrade_sim\u001b[49m\u001b[43m(\u001b[49m\u001b[43mticker\u001b[49m\u001b[43m,\u001b[49m\u001b[43m \u001b[49m\u001b[43mdf\u001b[49m\u001b[43m,\u001b[49m\u001b[43m \u001b[49m\u001b[43mholding_days\u001b[49m\u001b[43m)\u001b[49m\n\u001b[1;32m      7\u001b[0m     trades_df[\u001b[38;5;124m'\u001b[39m\u001b[38;5;124mTicker\u001b[39m\u001b[38;5;124m'\u001b[39m] \u001b[38;5;241m=\u001b[39m ticker  \u001b[38;5;66;03m# Add column for traceability\u001b[39;00m\n\u001b[1;32m      8\u001b[0m     all_trades\u001b[38;5;241m.\u001b[39mappend(trades_df)\n",
      "Cell \u001b[0;32mIn[127], line 12\u001b[0m, in \u001b[0;36mtrade_sim\u001b[0;34m(ticker, df, holding_days)\u001b[0m\n\u001b[1;32m      9\u001b[0m \u001b[38;5;66;03m# Iterate over the df, stopping with the number of holding days left (avoids out of bounds error) \u001b[39;00m\n\u001b[1;32m     10\u001b[0m \u001b[38;5;28;01mfor\u001b[39;00m i \u001b[38;5;129;01min\u001b[39;00m \u001b[38;5;28mrange\u001b[39m(\u001b[38;5;28mlen\u001b[39m(df) \u001b[38;5;241m-\u001b[39m holding_days):\n\u001b[1;32m     11\u001b[0m     \u001b[38;5;66;03m# Identify the Buy Signals - Locate rows with a \"1\" indicator\u001b[39;00m\n\u001b[0;32m---> 12\u001b[0m     \u001b[38;5;28;01mif\u001b[39;00m \u001b[43mdf\u001b[49m\u001b[38;5;241;43m.\u001b[39;49m\u001b[43miloc\u001b[49m\u001b[43m[\u001b[49m\u001b[43mi\u001b[49m\u001b[43m]\u001b[49m\u001b[43m[\u001b[49m\u001b[38;5;124;43m'\u001b[39;49m\u001b[38;5;124;43mSignal \u001b[39;49m\u001b[38;5;124;43m'\u001b[39;49m\u001b[43m \u001b[49m\u001b[38;5;241;43m+\u001b[39;49m\u001b[43m \u001b[49m\u001b[43mticker\u001b[49m\u001b[43m]\u001b[49m \u001b[38;5;241m==\u001b[39m \u001b[38;5;241m1\u001b[39m:\n\u001b[1;32m     13\u001b[0m         \u001b[38;5;66;03m# Set Entry/Exit Date - For each signal date (i), set the entry date to be the next trading day (i + 1)\u001b[39;00m\n\u001b[1;32m     14\u001b[0m         entry_idx \u001b[38;5;241m=\u001b[39m i \u001b[38;5;241m+\u001b[39m \u001b[38;5;241m1\u001b[39m\n\u001b[1;32m     15\u001b[0m         exit_idx \u001b[38;5;241m=\u001b[39m i \u001b[38;5;241m+\u001b[39m holding_days\n",
      "File \u001b[0;32m~/opt/anaconda3/lib/python3.8/site-packages/pandas/core/series.py:1007\u001b[0m, in \u001b[0;36mSeries.__getitem__\u001b[0;34m(self, key)\u001b[0m\n\u001b[1;32m   1004\u001b[0m     \u001b[38;5;28;01mreturn\u001b[39;00m \u001b[38;5;28mself\u001b[39m\u001b[38;5;241m.\u001b[39m_values[key]\n\u001b[1;32m   1006\u001b[0m \u001b[38;5;28;01melif\u001b[39;00m key_is_scalar:\n\u001b[0;32m-> 1007\u001b[0m     \u001b[38;5;28;01mreturn\u001b[39;00m \u001b[38;5;28;43mself\u001b[39;49m\u001b[38;5;241;43m.\u001b[39;49m\u001b[43m_get_value\u001b[49m\u001b[43m(\u001b[49m\u001b[43mkey\u001b[49m\u001b[43m)\u001b[49m\n\u001b[1;32m   1009\u001b[0m \u001b[38;5;28;01mif\u001b[39;00m is_hashable(key):\n\u001b[1;32m   1010\u001b[0m     \u001b[38;5;66;03m# Otherwise index.get_value will raise InvalidIndexError\u001b[39;00m\n\u001b[1;32m   1011\u001b[0m     \u001b[38;5;28;01mtry\u001b[39;00m:\n\u001b[1;32m   1012\u001b[0m         \u001b[38;5;66;03m# For labels that don't resolve as scalars like tuples and frozensets\u001b[39;00m\n",
      "File \u001b[0;32m~/opt/anaconda3/lib/python3.8/site-packages/pandas/core/series.py:1116\u001b[0m, in \u001b[0;36mSeries._get_value\u001b[0;34m(self, label, takeable)\u001b[0m\n\u001b[1;32m   1113\u001b[0m     \u001b[38;5;28;01mreturn\u001b[39;00m \u001b[38;5;28mself\u001b[39m\u001b[38;5;241m.\u001b[39m_values[label]\n\u001b[1;32m   1115\u001b[0m \u001b[38;5;66;03m# Similar to Index.get_value, but we do not fall back to positional\u001b[39;00m\n\u001b[0;32m-> 1116\u001b[0m loc \u001b[38;5;241m=\u001b[39m \u001b[38;5;28;43mself\u001b[39;49m\u001b[38;5;241;43m.\u001b[39;49m\u001b[43mindex\u001b[49m\u001b[38;5;241;43m.\u001b[39;49m\u001b[43mget_loc\u001b[49m\u001b[43m(\u001b[49m\u001b[43mlabel\u001b[49m\u001b[43m)\u001b[49m\n\u001b[1;32m   1118\u001b[0m \u001b[38;5;28;01mif\u001b[39;00m is_integer(loc):\n\u001b[1;32m   1119\u001b[0m     \u001b[38;5;28;01mreturn\u001b[39;00m \u001b[38;5;28mself\u001b[39m\u001b[38;5;241m.\u001b[39m_values[loc]\n",
      "File \u001b[0;32m~/opt/anaconda3/lib/python3.8/site-packages/pandas/core/indexes/base.py:3655\u001b[0m, in \u001b[0;36mIndex.get_loc\u001b[0;34m(self, key)\u001b[0m\n\u001b[1;32m   3653\u001b[0m     \u001b[38;5;28;01mreturn\u001b[39;00m \u001b[38;5;28mself\u001b[39m\u001b[38;5;241m.\u001b[39m_engine\u001b[38;5;241m.\u001b[39mget_loc(casted_key)\n\u001b[1;32m   3654\u001b[0m \u001b[38;5;28;01mexcept\u001b[39;00m \u001b[38;5;167;01mKeyError\u001b[39;00m \u001b[38;5;28;01mas\u001b[39;00m err:\n\u001b[0;32m-> 3655\u001b[0m     \u001b[38;5;28;01mraise\u001b[39;00m \u001b[38;5;167;01mKeyError\u001b[39;00m(key) \u001b[38;5;28;01mfrom\u001b[39;00m \u001b[38;5;21;01merr\u001b[39;00m\n\u001b[1;32m   3656\u001b[0m \u001b[38;5;28;01mexcept\u001b[39;00m \u001b[38;5;167;01mTypeError\u001b[39;00m:\n\u001b[1;32m   3657\u001b[0m     \u001b[38;5;66;03m# If we have a listlike key, _check_indexing_error will raise\u001b[39;00m\n\u001b[1;32m   3658\u001b[0m     \u001b[38;5;66;03m#  InvalidIndexError. Otherwise we fall through and re-raise\u001b[39;00m\n\u001b[1;32m   3659\u001b[0m     \u001b[38;5;66;03m#  the TypeError.\u001b[39;00m\n\u001b[1;32m   3660\u001b[0m     \u001b[38;5;28mself\u001b[39m\u001b[38;5;241m.\u001b[39m_check_indexing_error(key)\n",
      "\u001b[0;31mKeyError\u001b[0m: 'Signal MMM'"
     ]
    }
   ],
   "source": [
    "### Function to Simulate all Trades\n",
    "def simulate_all_trades(tickers, df, holding_days):\n",
    "    all_trades = []\n",
    "\n",
    "    for ticker in tickers:\n",
    "        trades_df = trade_sim(ticker, df, holding_days)\n",
    "        trades_df['Ticker'] = ticker  # Add column for traceability\n",
    "        all_trades.append(trades_df)\n",
    "    # Return the concatenated all trades df\n",
    "    return pd.concat(all_trades, ignore_index = True)\n",
    "\n",
    "### Function Return for all Tickers\n",
    "all_trades = simulate_all_trades(all_tickers, stock_data, holding_days = 14)\n",
    "all_trades.head()\n"
   ]
  },
  {
   "cell_type": "code",
   "execution_count": 129,
   "id": "760a00e3",
   "metadata": {},
   "outputs": [
    {
     "name": "stdout",
     "output_type": "stream",
     "text": [
      "Number of Trades: 2\n",
      "Total Return: 27.57%\n",
      "Average Trade Return: 12.97%\n",
      "Win Rate: 100.00%\n",
      "Sharpe Ratio: 16.49\n",
      "None\n"
     ]
    }
   ],
   "source": [
    "### Evaluate Total Performance\n",
    "def performance_metrics(df, holding_days):\n",
    "    # Total Return\n",
    "    total_rets = (1 + df['Return']).prod() - 1\n",
    "    # Avg Return\n",
    "    avg_rets = df['Return'].mean()\n",
    "    # Win Rate = Num Winning Trades / Total Trades\n",
    "    win_rate = (df['Return'] > 0).mean()\n",
    "    # Sharpe Ratio\n",
    "\n",
    "    sharpe = (avg_rets / df['Return'].std()) * np.sqrt(252 / holding_days)\n",
    "\n",
    "    print(f\"Number of Trades: {len(df)}\")\n",
    "    print(f\"Total Return: {total_rets:.2%}\")\n",
    "    print(f\"Average Trade Return: {avg_rets:.2%}\")\n",
    "    print(f\"Win Rate: {win_rate:.2%}\")\n",
    "    print(f\"Sharpe Ratio: {sharpe:.2f}\")\n",
    "\n",
    "### Function Return to Evaluate Total Performance\n",
    "metrics = performance_metrics(trades, holding_days = 14)\n",
    "print(metrics)\n"
   ]
  }
 ],
 "metadata": {
  "kernelspec": {
   "display_name": "base",
   "language": "python",
   "name": "python3"
  },
  "language_info": {
   "codemirror_mode": {
    "name": "ipython",
    "version": 3
   },
   "file_extension": ".py",
   "mimetype": "text/x-python",
   "name": "python",
   "nbconvert_exporter": "python",
   "pygments_lexer": "ipython3",
   "version": "3.8.18"
  }
 },
 "nbformat": 4,
 "nbformat_minor": 5
}
